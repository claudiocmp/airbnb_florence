{
 "cells": [
  {
   "cell_type": "markdown",
   "metadata": {},
   "source": [
    "# Airbnbing in Florence\n",
    "\n",
    "The scope of this project is to understand how much AirBNB homes are earning in certain time frames and areas, in the City of Florence, Tuscany. The project follows the guidelines CRISP-DM.\n",
    "\n",
    "We want to investigate how we could invest capital into a flat of small-to-medium size (studio to 2 bedrooms) to rent for turists. To do so, we want to try to answer the following points:\n",
    "  * Understand how airbnb businesses generally go in Florence in relation to our business goal. Listings are of any types, whereas we are interested in exploring small-to-medium-sized flats.\n",
    "  * Which areas of Florence are more popular, bringing highest occupancy. Also, which listings are more consolidated per area, and which are the areas where new listings are appearing\n",
    "  * Investigate the caracteristics of flats in relation to returns (how many guests can accept, utilities etc.) for the consolidated activities\n",
    "  * How earnings are distributed along the year, causing fluctuation of returns"
   ]
  },
  {
   "cell_type": "code",
   "execution_count": 1,
   "metadata": {},
   "outputs": [],
   "source": [
    "import os\n",
    "import pandas as pd\n",
    "import geopandas as gpd\n",
    "import matplotlib.pyplot as plt\n",
    "\n",
    "%matplotlib inline"
   ]
  },
  {
   "cell_type": "code",
   "execution_count": 2,
   "metadata": {},
   "outputs": [
    {
     "name": "stdout",
     "output_type": "stream",
     "text": [
      " Volume in drive C is OS\n",
      " Volume Serial Number is 881D-75E1\n",
      "\n",
      " Directory of C:\\dev\\airbnb_florence\n",
      "\n",
      "11-Aug-19  12:26 PM    <DIR>          .\n",
      "11-Aug-19  12:26 PM    <DIR>          ..\n",
      "10-Aug-19  08:01 PM    <DIR>          .gitignore\n",
      "11-Aug-19  11:44 AM    <DIR>          .ipynb_checkpoints\n",
      "11-Aug-19  11:22 AM    <DIR>          data\n",
      "11-Aug-19  12:26 PM            86,207 florence_listings.ipynb\n",
      "10-Aug-19  08:28 PM             1,162 README.md\n",
      "               2 File(s)         87,369 bytes\n",
      "               5 Dir(s)   9,293,893,632 bytes free\n"
     ]
    }
   ],
   "source": [
    "!dir"
   ]
  },
  {
   "cell_type": "code",
   "execution_count": 3,
   "metadata": {},
   "outputs": [],
   "source": [
    "PATH = os.getcwd()\n",
    "fn_listings = os.path.join(PATH, 'data', 'listings_short.csv')\n",
    "fn_districts = os.path.join(PATH, 'data', 'neighbourhoods.geojson')"
   ]
  },
  {
   "cell_type": "code",
   "execution_count": 4,
   "metadata": {},
   "outputs": [],
   "source": [
    "df_lst = pd.read_csv(fn_listings)\n",
    "df_dst = gpd.read_file(fn_districts)"
   ]
  },
  {
   "cell_type": "code",
   "execution_count": 5,
   "metadata": {},
   "outputs": [
    {
     "data": {
      "text/html": [
       "<div>\n",
       "<style scoped>\n",
       "    .dataframe tbody tr th:only-of-type {\n",
       "        vertical-align: middle;\n",
       "    }\n",
       "\n",
       "    .dataframe tbody tr th {\n",
       "        vertical-align: top;\n",
       "    }\n",
       "\n",
       "    .dataframe thead th {\n",
       "        text-align: right;\n",
       "    }\n",
       "</style>\n",
       "<table border=\"1\" class=\"dataframe\">\n",
       "  <thead>\n",
       "    <tr style=\"text-align: right;\">\n",
       "      <th></th>\n",
       "      <th>neighbourhood</th>\n",
       "      <th>neighbourhood_group</th>\n",
       "      <th>geometry</th>\n",
       "    </tr>\n",
       "  </thead>\n",
       "  <tbody>\n",
       "    <tr>\n",
       "      <th>0</th>\n",
       "      <td>Rifredi</td>\n",
       "      <td>None</td>\n",
       "      <td>(POLYGON ((11.15421 43.786381, 11.153517 43.78...</td>\n",
       "    </tr>\n",
       "    <tr>\n",
       "      <th>1</th>\n",
       "      <td>Gavinana Galluzzo</td>\n",
       "      <td>None</td>\n",
       "      <td>(POLYGON ((11.231188 43.759284, 11.23121 43.75...</td>\n",
       "    </tr>\n",
       "    <tr>\n",
       "      <th>2</th>\n",
       "      <td>Campo di Marte</td>\n",
       "      <td>None</td>\n",
       "      <td>(POLYGON ((11.270991 43.764896, 11.271159 43.7...</td>\n",
       "    </tr>\n",
       "    <tr>\n",
       "      <th>3</th>\n",
       "      <td>Isolotto Legnaia</td>\n",
       "      <td>None</td>\n",
       "      <td>(POLYGON ((11.20787 43.749145, 11.207715 43.74...</td>\n",
       "    </tr>\n",
       "    <tr>\n",
       "      <th>4</th>\n",
       "      <td>Centro Storico</td>\n",
       "      <td>None</td>\n",
       "      <td>(POLYGON ((11.231188 43.759284, 11.231573 43.7...</td>\n",
       "    </tr>\n",
       "  </tbody>\n",
       "</table>\n",
       "</div>"
      ],
      "text/plain": [
       "       neighbourhood neighbourhood_group  \\\n",
       "0            Rifredi                None   \n",
       "1  Gavinana Galluzzo                None   \n",
       "2     Campo di Marte                None   \n",
       "3   Isolotto Legnaia                None   \n",
       "4     Centro Storico                None   \n",
       "\n",
       "                                            geometry  \n",
       "0  (POLYGON ((11.15421 43.786381, 11.153517 43.78...  \n",
       "1  (POLYGON ((11.231188 43.759284, 11.23121 43.75...  \n",
       "2  (POLYGON ((11.270991 43.764896, 11.271159 43.7...  \n",
       "3  (POLYGON ((11.20787 43.749145, 11.207715 43.74...  \n",
       "4  (POLYGON ((11.231188 43.759284, 11.231573 43.7...  "
      ]
     },
     "execution_count": 5,
     "metadata": {},
     "output_type": "execute_result"
    }
   ],
   "source": [
    "df_dst"
   ]
  },
  {
   "cell_type": "code",
   "execution_count": 6,
   "metadata": {},
   "outputs": [
    {
     "data": {
      "text/html": [
       "<div>\n",
       "<style scoped>\n",
       "    .dataframe tbody tr th:only-of-type {\n",
       "        vertical-align: middle;\n",
       "    }\n",
       "\n",
       "    .dataframe tbody tr th {\n",
       "        vertical-align: top;\n",
       "    }\n",
       "\n",
       "    .dataframe thead th {\n",
       "        text-align: right;\n",
       "    }\n",
       "</style>\n",
       "<table border=\"1\" class=\"dataframe\">\n",
       "  <thead>\n",
       "    <tr style=\"text-align: right;\">\n",
       "      <th></th>\n",
       "      <th>id</th>\n",
       "      <th>name</th>\n",
       "      <th>host_id</th>\n",
       "      <th>host_name</th>\n",
       "      <th>neighbourhood_group</th>\n",
       "      <th>neighbourhood</th>\n",
       "      <th>latitude</th>\n",
       "      <th>longitude</th>\n",
       "      <th>room_type</th>\n",
       "      <th>price</th>\n",
       "      <th>minimum_nights</th>\n",
       "      <th>number_of_reviews</th>\n",
       "      <th>last_review</th>\n",
       "      <th>reviews_per_month</th>\n",
       "      <th>calculated_host_listings_count</th>\n",
       "      <th>availability_365</th>\n",
       "    </tr>\n",
       "  </thead>\n",
       "  <tbody>\n",
       "    <tr>\n",
       "      <th>0</th>\n",
       "      <td>24469</td>\n",
       "      <td>Fortezza/City Centre Modern Apt 2+2</td>\n",
       "      <td>99178</td>\n",
       "      <td>Benedetta And Lorenzo</td>\n",
       "      <td>NaN</td>\n",
       "      <td>Centro Storico</td>\n",
       "      <td>43.78308</td>\n",
       "      <td>11.24418</td>\n",
       "      <td>Entire home/apt</td>\n",
       "      <td>80</td>\n",
       "      <td>2</td>\n",
       "      <td>0</td>\n",
       "      <td>NaN</td>\n",
       "      <td>NaN</td>\n",
       "      <td>5</td>\n",
       "      <td>345</td>\n",
       "    </tr>\n",
       "    <tr>\n",
       "      <th>1</th>\n",
       "      <td>24470</td>\n",
       "      <td>Fortezza/City Centre Modern Apt 2+1</td>\n",
       "      <td>99178</td>\n",
       "      <td>Benedetta And Lorenzo</td>\n",
       "      <td>NaN</td>\n",
       "      <td>Centro Storico</td>\n",
       "      <td>43.78287</td>\n",
       "      <td>11.24431</td>\n",
       "      <td>Entire home/apt</td>\n",
       "      <td>75</td>\n",
       "      <td>2</td>\n",
       "      <td>3</td>\n",
       "      <td>2019-04-21</td>\n",
       "      <td>0.03</td>\n",
       "      <td>5</td>\n",
       "      <td>350</td>\n",
       "    </tr>\n",
       "    <tr>\n",
       "      <th>2</th>\n",
       "      <td>24471</td>\n",
       "      <td>Fortezza/City Centre Modern Apt 4+2</td>\n",
       "      <td>99178</td>\n",
       "      <td>Benedetta And Lorenzo</td>\n",
       "      <td>NaN</td>\n",
       "      <td>Centro Storico</td>\n",
       "      <td>43.78292</td>\n",
       "      <td>11.24460</td>\n",
       "      <td>Entire home/apt</td>\n",
       "      <td>135</td>\n",
       "      <td>2</td>\n",
       "      <td>0</td>\n",
       "      <td>NaN</td>\n",
       "      <td>NaN</td>\n",
       "      <td>5</td>\n",
       "      <td>355</td>\n",
       "    </tr>\n",
       "    <tr>\n",
       "      <th>3</th>\n",
       "      <td>24472</td>\n",
       "      <td>Fortezza/City Centre Modern Apt 4+2</td>\n",
       "      <td>99178</td>\n",
       "      <td>Benedetta And Lorenzo</td>\n",
       "      <td>NaN</td>\n",
       "      <td>Centro Storico</td>\n",
       "      <td>43.78150</td>\n",
       "      <td>11.24507</td>\n",
       "      <td>Entire home/apt</td>\n",
       "      <td>120</td>\n",
       "      <td>2</td>\n",
       "      <td>2</td>\n",
       "      <td>2012-04-11</td>\n",
       "      <td>0.02</td>\n",
       "      <td>5</td>\n",
       "      <td>342</td>\n",
       "    </tr>\n",
       "    <tr>\n",
       "      <th>4</th>\n",
       "      <td>24807</td>\n",
       "      <td>Beautiful Apartment Florence &amp; WIFI</td>\n",
       "      <td>68490</td>\n",
       "      <td>Alberto</td>\n",
       "      <td>NaN</td>\n",
       "      <td>Campo di Marte</td>\n",
       "      <td>43.77813</td>\n",
       "      <td>11.29202</td>\n",
       "      <td>Entire home/apt</td>\n",
       "      <td>51</td>\n",
       "      <td>2</td>\n",
       "      <td>344</td>\n",
       "      <td>2019-05-21</td>\n",
       "      <td>3.10</td>\n",
       "      <td>1</td>\n",
       "      <td>152</td>\n",
       "    </tr>\n",
       "  </tbody>\n",
       "</table>\n",
       "</div>"
      ],
      "text/plain": [
       "      id                                 name  host_id              host_name  \\\n",
       "0  24469  Fortezza/City Centre Modern Apt 2+2    99178  Benedetta And Lorenzo   \n",
       "1  24470  Fortezza/City Centre Modern Apt 2+1    99178  Benedetta And Lorenzo   \n",
       "2  24471  Fortezza/City Centre Modern Apt 4+2    99178  Benedetta And Lorenzo   \n",
       "3  24472  Fortezza/City Centre Modern Apt 4+2    99178  Benedetta And Lorenzo   \n",
       "4  24807  Beautiful Apartment Florence & WIFI    68490                Alberto   \n",
       "\n",
       "   neighbourhood_group   neighbourhood  latitude  longitude        room_type  \\\n",
       "0                  NaN  Centro Storico  43.78308   11.24418  Entire home/apt   \n",
       "1                  NaN  Centro Storico  43.78287   11.24431  Entire home/apt   \n",
       "2                  NaN  Centro Storico  43.78292   11.24460  Entire home/apt   \n",
       "3                  NaN  Centro Storico  43.78150   11.24507  Entire home/apt   \n",
       "4                  NaN  Campo di Marte  43.77813   11.29202  Entire home/apt   \n",
       "\n",
       "   price  minimum_nights  number_of_reviews last_review  reviews_per_month  \\\n",
       "0     80               2                  0         NaN                NaN   \n",
       "1     75               2                  3  2019-04-21               0.03   \n",
       "2    135               2                  0         NaN                NaN   \n",
       "3    120               2                  2  2012-04-11               0.02   \n",
       "4     51               2                344  2019-05-21               3.10   \n",
       "\n",
       "   calculated_host_listings_count  availability_365  \n",
       "0                               5               345  \n",
       "1                               5               350  \n",
       "2                               5               355  \n",
       "3                               5               342  \n",
       "4                               1               152  "
      ]
     },
     "execution_count": 6,
     "metadata": {},
     "output_type": "execute_result"
    }
   ],
   "source": [
    "# listings. name and host_name are  reduntant as indxing can be done per id and host_id.\n",
    "df_lst.head()"
   ]
  },
  {
   "cell_type": "markdown",
   "metadata": {},
   "source": [
    "### General stats"
   ]
  },
  {
   "cell_type": "code",
   "execution_count": 7,
   "metadata": {},
   "outputs": [
    {
     "data": {
      "text/html": [
       "<div>\n",
       "<style scoped>\n",
       "    .dataframe tbody tr th:only-of-type {\n",
       "        vertical-align: middle;\n",
       "    }\n",
       "\n",
       "    .dataframe tbody tr th {\n",
       "        vertical-align: top;\n",
       "    }\n",
       "\n",
       "    .dataframe thead th {\n",
       "        text-align: right;\n",
       "    }\n",
       "</style>\n",
       "<table border=\"1\" class=\"dataframe\">\n",
       "  <thead>\n",
       "    <tr style=\"text-align: right;\">\n",
       "      <th></th>\n",
       "      <th>id</th>\n",
       "      <th>host_id</th>\n",
       "      <th>neighbourhood_group</th>\n",
       "      <th>latitude</th>\n",
       "      <th>longitude</th>\n",
       "      <th>price</th>\n",
       "      <th>minimum_nights</th>\n",
       "      <th>number_of_reviews</th>\n",
       "      <th>reviews_per_month</th>\n",
       "      <th>calculated_host_listings_count</th>\n",
       "      <th>availability_365</th>\n",
       "    </tr>\n",
       "  </thead>\n",
       "  <tbody>\n",
       "    <tr>\n",
       "      <th>count</th>\n",
       "      <td>1.202200e+04</td>\n",
       "      <td>1.202200e+04</td>\n",
       "      <td>0.0</td>\n",
       "      <td>12022.000000</td>\n",
       "      <td>12022.000000</td>\n",
       "      <td>12022.000000</td>\n",
       "      <td>12022.000000</td>\n",
       "      <td>12022.000000</td>\n",
       "      <td>10349.000000</td>\n",
       "      <td>12022.000000</td>\n",
       "      <td>12022.000000</td>\n",
       "    </tr>\n",
       "    <tr>\n",
       "      <th>mean</th>\n",
       "      <td>1.799306e+07</td>\n",
       "      <td>6.589200e+07</td>\n",
       "      <td>NaN</td>\n",
       "      <td>43.773871</td>\n",
       "      <td>11.253617</td>\n",
       "      <td>102.435368</td>\n",
       "      <td>2.977791</td>\n",
       "      <td>48.030611</td>\n",
       "      <td>2.049765</td>\n",
       "      <td>14.003161</td>\n",
       "      <td>200.680087</td>\n",
       "    </tr>\n",
       "    <tr>\n",
       "      <th>std</th>\n",
       "      <td>1.085978e+07</td>\n",
       "      <td>7.523406e+07</td>\n",
       "      <td>NaN</td>\n",
       "      <td>0.009772</td>\n",
       "      <td>0.016564</td>\n",
       "      <td>122.866411</td>\n",
       "      <td>18.527526</td>\n",
       "      <td>74.106464</td>\n",
       "      <td>1.956661</td>\n",
       "      <td>33.441818</td>\n",
       "      <td>122.536516</td>\n",
       "    </tr>\n",
       "    <tr>\n",
       "      <th>min</th>\n",
       "      <td>2.446900e+04</td>\n",
       "      <td>1.565100e+04</td>\n",
       "      <td>NaN</td>\n",
       "      <td>43.726130</td>\n",
       "      <td>11.159010</td>\n",
       "      <td>0.000000</td>\n",
       "      <td>1.000000</td>\n",
       "      <td>0.000000</td>\n",
       "      <td>0.010000</td>\n",
       "      <td>1.000000</td>\n",
       "      <td>0.000000</td>\n",
       "    </tr>\n",
       "    <tr>\n",
       "      <th>25%</th>\n",
       "      <td>7.795951e+06</td>\n",
       "      <td>7.147408e+06</td>\n",
       "      <td>NaN</td>\n",
       "      <td>43.768540</td>\n",
       "      <td>11.245380</td>\n",
       "      <td>55.000000</td>\n",
       "      <td>1.000000</td>\n",
       "      <td>2.000000</td>\n",
       "      <td>0.470000</td>\n",
       "      <td>1.000000</td>\n",
       "      <td>86.000000</td>\n",
       "    </tr>\n",
       "    <tr>\n",
       "      <th>50%</th>\n",
       "      <td>1.868842e+07</td>\n",
       "      <td>3.077204e+07</td>\n",
       "      <td>NaN</td>\n",
       "      <td>43.772285</td>\n",
       "      <td>11.254120</td>\n",
       "      <td>79.000000</td>\n",
       "      <td>2.000000</td>\n",
       "      <td>15.000000</td>\n",
       "      <td>1.440000</td>\n",
       "      <td>3.000000</td>\n",
       "      <td>226.500000</td>\n",
       "    </tr>\n",
       "    <tr>\n",
       "      <th>75%</th>\n",
       "      <td>2.702809e+07</td>\n",
       "      <td>1.083819e+08</td>\n",
       "      <td>NaN</td>\n",
       "      <td>43.778060</td>\n",
       "      <td>11.261977</td>\n",
       "      <td>110.000000</td>\n",
       "      <td>3.000000</td>\n",
       "      <td>62.000000</td>\n",
       "      <td>3.110000</td>\n",
       "      <td>7.000000</td>\n",
       "      <td>314.000000</td>\n",
       "    </tr>\n",
       "    <tr>\n",
       "      <th>max</th>\n",
       "      <td>3.594108e+07</td>\n",
       "      <td>2.702475e+08</td>\n",
       "      <td>NaN</td>\n",
       "      <td>43.831740</td>\n",
       "      <td>11.331010</td>\n",
       "      <td>5000.000000</td>\n",
       "      <td>1120.000000</td>\n",
       "      <td>719.000000</td>\n",
       "      <td>14.640000</td>\n",
       "      <td>176.000000</td>\n",
       "      <td>365.000000</td>\n",
       "    </tr>\n",
       "  </tbody>\n",
       "</table>\n",
       "</div>"
      ],
      "text/plain": [
       "                 id       host_id  neighbourhood_group      latitude  \\\n",
       "count  1.202200e+04  1.202200e+04                  0.0  12022.000000   \n",
       "mean   1.799306e+07  6.589200e+07                  NaN     43.773871   \n",
       "std    1.085978e+07  7.523406e+07                  NaN      0.009772   \n",
       "min    2.446900e+04  1.565100e+04                  NaN     43.726130   \n",
       "25%    7.795951e+06  7.147408e+06                  NaN     43.768540   \n",
       "50%    1.868842e+07  3.077204e+07                  NaN     43.772285   \n",
       "75%    2.702809e+07  1.083819e+08                  NaN     43.778060   \n",
       "max    3.594108e+07  2.702475e+08                  NaN     43.831740   \n",
       "\n",
       "          longitude         price  minimum_nights  number_of_reviews  \\\n",
       "count  12022.000000  12022.000000    12022.000000       12022.000000   \n",
       "mean      11.253617    102.435368        2.977791          48.030611   \n",
       "std        0.016564    122.866411       18.527526          74.106464   \n",
       "min       11.159010      0.000000        1.000000           0.000000   \n",
       "25%       11.245380     55.000000        1.000000           2.000000   \n",
       "50%       11.254120     79.000000        2.000000          15.000000   \n",
       "75%       11.261977    110.000000        3.000000          62.000000   \n",
       "max       11.331010   5000.000000     1120.000000         719.000000   \n",
       "\n",
       "       reviews_per_month  calculated_host_listings_count  availability_365  \n",
       "count       10349.000000                    12022.000000      12022.000000  \n",
       "mean            2.049765                       14.003161        200.680087  \n",
       "std             1.956661                       33.441818        122.536516  \n",
       "min             0.010000                        1.000000          0.000000  \n",
       "25%             0.470000                        1.000000         86.000000  \n",
       "50%             1.440000                        3.000000        226.500000  \n",
       "75%             3.110000                        7.000000        314.000000  \n",
       "max            14.640000                      176.000000        365.000000  "
      ]
     },
     "execution_count": 7,
     "metadata": {},
     "output_type": "execute_result"
    }
   ],
   "source": [
    "# let's see the stats.\n",
    "# neighbourhood_group is all nan, as there is no grouping for Florence. Also look like some prices are at 0.\n",
    "df_lst.describe()"
   ]
  },
  {
   "cell_type": "markdown",
   "metadata": {},
   "source": [
    "Prices looks very broad. Let's explore prices set to zeros and prices which suggest exclusive accomodations."
   ]
  },
  {
   "cell_type": "code",
   "execution_count": 8,
   "metadata": {},
   "outputs": [
    {
     "data": {
      "image/png": "[encoded data removed]",
      "text/plain": [
       "<Figure size 720x360 with 1 Axes>"
      ]
     },
     "metadata": {
      "needs_background": "light"
     },
     "output_type": "display_data"
    }
   ],
   "source": [
    "fig = plt.figure(figsize=(10,5))\n",
    "plt.hist(df_lst['price'],bins=100);"
   ]
  },
  {
   "cell_type": "code",
   "execution_count": 9,
   "metadata": {},
   "outputs": [
    {
     "data": {
      "text/plain": [
       "2"
      ]
     },
     "execution_count": 9,
     "metadata": {},
     "output_type": "execute_result"
    }
   ],
   "source": [
    "# only two records have price == 0\n",
    "df_lst[df_lst['price'] == 0]['id'].count()"
   ]
  },
  {
   "cell_type": "markdown",
   "metadata": {},
   "source": [
    "also a maximum price of 5000 per night seems pretty out-of-the-standard. As we are interested of purchasing a flat of medium size, Let's see how many items are above 500€ per night"
   ]
  },
  {
   "cell_type": "code",
   "execution_count": 10,
   "metadata": {},
   "outputs": [
    {
     "data": {
      "text/plain": [
       "101"
      ]
     },
     "execution_count": 10,
     "metadata": {},
     "output_type": "execute_result"
    }
   ],
   "source": [
    "df_lst[df_lst['price'] > 500]['id'].count()"
   ]
  },
  {
   "cell_type": "markdown",
   "metadata": {},
   "source": [
    "Let's remove from the df_lst the records with price per night of 0, and  and dropping unecessary columns. We want also to exclude particularly expensive flats because they are out of our business scope."
   ]
  },
  {
   "cell_type": "code",
   "execution_count": 11,
   "metadata": {},
   "outputs": [
    {
     "name": "stderr",
     "output_type": "stream",
     "text": [
      "C:\\Users\\Claudio\\AppData\\Local\\conda\\conda\\envs\\airbnb_florence\\lib\\site-packages\\ipykernel_launcher.py:2: UserWarning: Boolean Series key will be reindexed to match DataFrame index.\n",
      "  \n"
     ]
    },
    {
     "data": {
      "text/html": [
       "<div>\n",
       "<style scoped>\n",
       "    .dataframe tbody tr th:only-of-type {\n",
       "        vertical-align: middle;\n",
       "    }\n",
       "\n",
       "    .dataframe tbody tr th {\n",
       "        vertical-align: top;\n",
       "    }\n",
       "\n",
       "    .dataframe thead th {\n",
       "        text-align: right;\n",
       "    }\n",
       "</style>\n",
       "<table border=\"1\" class=\"dataframe\">\n",
       "  <thead>\n",
       "    <tr style=\"text-align: right;\">\n",
       "      <th></th>\n",
       "      <th>id</th>\n",
       "      <th>host_id</th>\n",
       "      <th>neighbourhood</th>\n",
       "      <th>latitude</th>\n",
       "      <th>longitude</th>\n",
       "      <th>room_type</th>\n",
       "      <th>price</th>\n",
       "      <th>minimum_nights</th>\n",
       "      <th>number_of_reviews</th>\n",
       "      <th>last_review</th>\n",
       "      <th>reviews_per_month</th>\n",
       "      <th>calculated_host_listings_count</th>\n",
       "      <th>availability_365</th>\n",
       "    </tr>\n",
       "  </thead>\n",
       "  <tbody>\n",
       "    <tr>\n",
       "      <th>0</th>\n",
       "      <td>24469</td>\n",
       "      <td>99178</td>\n",
       "      <td>Centro Storico</td>\n",
       "      <td>43.78308</td>\n",
       "      <td>11.24418</td>\n",
       "      <td>Entire home/apt</td>\n",
       "      <td>80</td>\n",
       "      <td>2</td>\n",
       "      <td>0</td>\n",
       "      <td>NaN</td>\n",
       "      <td>NaN</td>\n",
       "      <td>5</td>\n",
       "      <td>345</td>\n",
       "    </tr>\n",
       "    <tr>\n",
       "      <th>1</th>\n",
       "      <td>24470</td>\n",
       "      <td>99178</td>\n",
       "      <td>Centro Storico</td>\n",
       "      <td>43.78287</td>\n",
       "      <td>11.24431</td>\n",
       "      <td>Entire home/apt</td>\n",
       "      <td>75</td>\n",
       "      <td>2</td>\n",
       "      <td>3</td>\n",
       "      <td>2019-04-21</td>\n",
       "      <td>0.03</td>\n",
       "      <td>5</td>\n",
       "      <td>350</td>\n",
       "    </tr>\n",
       "    <tr>\n",
       "      <th>2</th>\n",
       "      <td>24471</td>\n",
       "      <td>99178</td>\n",
       "      <td>Centro Storico</td>\n",
       "      <td>43.78292</td>\n",
       "      <td>11.24460</td>\n",
       "      <td>Entire home/apt</td>\n",
       "      <td>135</td>\n",
       "      <td>2</td>\n",
       "      <td>0</td>\n",
       "      <td>NaN</td>\n",
       "      <td>NaN</td>\n",
       "      <td>5</td>\n",
       "      <td>355</td>\n",
       "    </tr>\n",
       "    <tr>\n",
       "      <th>3</th>\n",
       "      <td>24472</td>\n",
       "      <td>99178</td>\n",
       "      <td>Centro Storico</td>\n",
       "      <td>43.78150</td>\n",
       "      <td>11.24507</td>\n",
       "      <td>Entire home/apt</td>\n",
       "      <td>120</td>\n",
       "      <td>2</td>\n",
       "      <td>2</td>\n",
       "      <td>2012-04-11</td>\n",
       "      <td>0.02</td>\n",
       "      <td>5</td>\n",
       "      <td>342</td>\n",
       "    </tr>\n",
       "    <tr>\n",
       "      <th>4</th>\n",
       "      <td>24807</td>\n",
       "      <td>68490</td>\n",
       "      <td>Campo di Marte</td>\n",
       "      <td>43.77813</td>\n",
       "      <td>11.29202</td>\n",
       "      <td>Entire home/apt</td>\n",
       "      <td>51</td>\n",
       "      <td>2</td>\n",
       "      <td>344</td>\n",
       "      <td>2019-05-21</td>\n",
       "      <td>3.10</td>\n",
       "      <td>1</td>\n",
       "      <td>152</td>\n",
       "    </tr>\n",
       "  </tbody>\n",
       "</table>\n",
       "</div>"
      ],
      "text/plain": [
       "      id  host_id   neighbourhood  latitude  longitude        room_type  \\\n",
       "0  24469    99178  Centro Storico  43.78308   11.24418  Entire home/apt   \n",
       "1  24470    99178  Centro Storico  43.78287   11.24431  Entire home/apt   \n",
       "2  24471    99178  Centro Storico  43.78292   11.24460  Entire home/apt   \n",
       "3  24472    99178  Centro Storico  43.78150   11.24507  Entire home/apt   \n",
       "4  24807    68490  Campo di Marte  43.77813   11.29202  Entire home/apt   \n",
       "\n",
       "   price  minimum_nights  number_of_reviews last_review  reviews_per_month  \\\n",
       "0     80               2                  0         NaN                NaN   \n",
       "1     75               2                  3  2019-04-21               0.03   \n",
       "2    135               2                  0         NaN                NaN   \n",
       "3    120               2                  2  2012-04-11               0.02   \n",
       "4     51               2                344  2019-05-21               3.10   \n",
       "\n",
       "   calculated_host_listings_count  availability_365  \n",
       "0                               5               345  \n",
       "1                               5               350  \n",
       "2                               5               355  \n",
       "3                               5               342  \n",
       "4                               1               152  "
      ]
     },
     "execution_count": 11,
     "metadata": {},
     "output_type": "execute_result"
    }
   ],
   "source": [
    "df_lst_ = df_lst.drop(columns=['name','host_name','neighbourhood_group'], axis=1)[df_lst['price'] != 0]\n",
    "df_lst_ = df_lst_[df_lst['price'] <= 500]\n",
    "df_lst_.head()"
   ]
  },
  {
   "cell_type": "code",
   "execution_count": 12,
   "metadata": {
    "scrolled": true
   },
   "outputs": [
    {
     "data": {
      "text/plain": [
       "(11919, 13)"
      ]
     },
     "execution_count": 12,
     "metadata": {},
     "output_type": "execute_result"
    }
   ],
   "source": [
    "df_lst_.shape"
   ]
  },
  {
   "cell_type": "code",
   "execution_count": 13,
   "metadata": {},
   "outputs": [
    {
     "data": {
      "image/png": "[encoded data removed]",
      "text/plain": [
       "<Figure size 432x288 with 1 Axes>"
      ]
     },
     "metadata": {
      "needs_background": "light"
     },
     "output_type": "display_data"
    }
   ],
   "source": [
    "plt.hist(df_lst_['price'],bins=25);"
   ]
  },
  {
   "cell_type": "markdown",
   "metadata": {},
   "source": [
    "### Listing Types\n",
    "\n",
    "The `room_type` feature suggests that some hosts rent the place where they live, or might turn a property into a bnb-like business. The first case does not interest our research, whereas the latter poses serious problems in understanding how different rooms are part of the same flat (they would belong to the same host, but this might be a strong assumption to make)."
   ]
  },
  {
   "cell_type": "code",
   "execution_count": 14,
   "metadata": {},
   "outputs": [
    {
     "data": {
      "text/plain": [
       "room_type\n",
       "Entire home/apt    9239\n",
       "Private room       2623\n",
       "Shared room          57\n",
       "Name: id, dtype: int64"
      ]
     },
     "execution_count": 14,
     "metadata": {},
     "output_type": "execute_result"
    }
   ],
   "source": [
    "# types of listing\n",
    "df_lst_.groupby('room_type')['id'].nunique()"
   ]
  },
  {
   "cell_type": "code",
   "execution_count": 16,
   "metadata": {},
   "outputs": [
    {
     "name": "stdout",
     "output_type": "stream",
     "text": [
      "The provate rooms which are the only listing advertised by an host are the 55.13 %\n"
     ]
    }
   ],
   "source": [
    "one_shared_room = df_lst_[df_lst_['room_type']=='Private room'].groupby('host_id').count()==1\n",
    "l = df_lst_.groupby('room_type')['id'].nunique()['Private room']\n",
    "print('The provate rooms which are the only listing advertised by an host are the', \n",
    "      round((float(one_shared_room['id'].count())/l),4)*100,\n",
    "      '%'\n",
    "     )"
   ]
  },
  {
   "cell_type": "markdown",
   "metadata": {},
   "source": [
    "We can keep exploring the dataset keeping only `Entire home/apt`, which is more likely to answer our question"
   ]
  },
  {
   "cell_type": "code",
   "execution_count": 17,
   "metadata": {},
   "outputs": [
    {
     "data": {
      "text/html": [
       "<div>\n",
       "<style scoped>\n",
       "    .dataframe tbody tr th:only-of-type {\n",
       "        vertical-align: middle;\n",
       "    }\n",
       "\n",
       "    .dataframe tbody tr th {\n",
       "        vertical-align: top;\n",
       "    }\n",
       "\n",
       "    .dataframe thead th {\n",
       "        text-align: right;\n",
       "    }\n",
       "</style>\n",
       "<table border=\"1\" class=\"dataframe\">\n",
       "  <thead>\n",
       "    <tr style=\"text-align: right;\">\n",
       "      <th></th>\n",
       "      <th>id</th>\n",
       "      <th>host_id</th>\n",
       "      <th>neighbourhood</th>\n",
       "      <th>latitude</th>\n",
       "      <th>longitude</th>\n",
       "      <th>room_type</th>\n",
       "      <th>price</th>\n",
       "      <th>minimum_nights</th>\n",
       "      <th>number_of_reviews</th>\n",
       "      <th>last_review</th>\n",
       "      <th>reviews_per_month</th>\n",
       "      <th>calculated_host_listings_count</th>\n",
       "      <th>availability_365</th>\n",
       "    </tr>\n",
       "  </thead>\n",
       "  <tbody>\n",
       "    <tr>\n",
       "      <th>0</th>\n",
       "      <td>24469</td>\n",
       "      <td>99178</td>\n",
       "      <td>Centro Storico</td>\n",
       "      <td>43.78308</td>\n",
       "      <td>11.24418</td>\n",
       "      <td>Entire home/apt</td>\n",
       "      <td>80</td>\n",
       "      <td>2</td>\n",
       "      <td>0</td>\n",
       "      <td>NaN</td>\n",
       "      <td>NaN</td>\n",
       "      <td>5</td>\n",
       "      <td>345</td>\n",
       "    </tr>\n",
       "    <tr>\n",
       "      <th>1</th>\n",
       "      <td>24470</td>\n",
       "      <td>99178</td>\n",
       "      <td>Centro Storico</td>\n",
       "      <td>43.78287</td>\n",
       "      <td>11.24431</td>\n",
       "      <td>Entire home/apt</td>\n",
       "      <td>75</td>\n",
       "      <td>2</td>\n",
       "      <td>3</td>\n",
       "      <td>2019-04-21</td>\n",
       "      <td>0.03</td>\n",
       "      <td>5</td>\n",
       "      <td>350</td>\n",
       "    </tr>\n",
       "    <tr>\n",
       "      <th>2</th>\n",
       "      <td>24471</td>\n",
       "      <td>99178</td>\n",
       "      <td>Centro Storico</td>\n",
       "      <td>43.78292</td>\n",
       "      <td>11.24460</td>\n",
       "      <td>Entire home/apt</td>\n",
       "      <td>135</td>\n",
       "      <td>2</td>\n",
       "      <td>0</td>\n",
       "      <td>NaN</td>\n",
       "      <td>NaN</td>\n",
       "      <td>5</td>\n",
       "      <td>355</td>\n",
       "    </tr>\n",
       "    <tr>\n",
       "      <th>3</th>\n",
       "      <td>24472</td>\n",
       "      <td>99178</td>\n",
       "      <td>Centro Storico</td>\n",
       "      <td>43.78150</td>\n",
       "      <td>11.24507</td>\n",
       "      <td>Entire home/apt</td>\n",
       "      <td>120</td>\n",
       "      <td>2</td>\n",
       "      <td>2</td>\n",
       "      <td>2012-04-11</td>\n",
       "      <td>0.02</td>\n",
       "      <td>5</td>\n",
       "      <td>342</td>\n",
       "    </tr>\n",
       "    <tr>\n",
       "      <th>4</th>\n",
       "      <td>24807</td>\n",
       "      <td>68490</td>\n",
       "      <td>Campo di Marte</td>\n",
       "      <td>43.77813</td>\n",
       "      <td>11.29202</td>\n",
       "      <td>Entire home/apt</td>\n",
       "      <td>51</td>\n",
       "      <td>2</td>\n",
       "      <td>344</td>\n",
       "      <td>2019-05-21</td>\n",
       "      <td>3.10</td>\n",
       "      <td>1</td>\n",
       "      <td>152</td>\n",
       "    </tr>\n",
       "  </tbody>\n",
       "</table>\n",
       "</div>"
      ],
      "text/plain": [
       "      id  host_id   neighbourhood  latitude  longitude        room_type  \\\n",
       "0  24469    99178  Centro Storico  43.78308   11.24418  Entire home/apt   \n",
       "1  24470    99178  Centro Storico  43.78287   11.24431  Entire home/apt   \n",
       "2  24471    99178  Centro Storico  43.78292   11.24460  Entire home/apt   \n",
       "3  24472    99178  Centro Storico  43.78150   11.24507  Entire home/apt   \n",
       "4  24807    68490  Campo di Marte  43.77813   11.29202  Entire home/apt   \n",
       "\n",
       "   price  minimum_nights  number_of_reviews last_review  reviews_per_month  \\\n",
       "0     80               2                  0         NaN                NaN   \n",
       "1     75               2                  3  2019-04-21               0.03   \n",
       "2    135               2                  0         NaN                NaN   \n",
       "3    120               2                  2  2012-04-11               0.02   \n",
       "4     51               2                344  2019-05-21               3.10   \n",
       "\n",
       "   calculated_host_listings_count  availability_365  \n",
       "0                               5               345  \n",
       "1                               5               350  \n",
       "2                               5               355  \n",
       "3                               5               342  \n",
       "4                               1               152  "
      ]
     },
     "execution_count": 17,
     "metadata": {},
     "output_type": "execute_result"
    }
   ],
   "source": [
    "df_lst_ = df_lst_[df_lst_['room_type']=='Entire home/apt']\n",
    "df_lst_.head()"
   ]
  },
  {
   "cell_type": "code",
   "execution_count": 18,
   "metadata": {},
   "outputs": [
    {
     "data": {
      "text/plain": [
       "(9239, 13)"
      ]
     },
     "execution_count": 18,
     "metadata": {},
     "output_type": "execute_result"
    }
   ],
   "source": [
    "df_lst_.shape"
   ]
  },
  {
   "cell_type": "markdown",
   "metadata": {},
   "source": [
    "### Areas\n",
    "\n",
    "Which areas of Florence are more popular, bringing highest occupancy. \n",
    "Also, can we assume that listing showing more reviews indicates more consolidated businesses? Where are these and which are the areas where listings with low number of reviews are concentrated?"
   ]
  },
  {
   "cell_type": "code",
   "execution_count": 30,
   "metadata": {},
   "outputs": [
    {
     "data": {
      "image/png": "[encoded data removed]",
      "text/plain": [
       "<Figure size 720x720 with 6 Axes>"
      ]
     },
     "metadata": {
      "needs_background": "light"
     },
     "output_type": "display_data"
    }
   ],
   "source": [
    "nb_gs = df_lst_.groupby('neighbourhood')\n",
    "\n",
    "fig,axs = plt.subplots(3,2,figsize=(10,10))\n",
    "\n",
    "for i,(n,g) in enumerate(nb_gs):\n",
    "    ax = axs[i//2][i%2]\n",
    "    ax.hist(g['price'], bins=20)\n",
    "#     ax.hist(g['price'], bins=20, density=True)\n",
    "    ax.set_xlabel('price')\n",
    "    ax.set_ylabel('no of listings')\n",
    "    ax.set_ylim((0,2500))\n",
    "    ax.title.set_text(n)\n",
    "\n",
    "plt.tight_layout()\n",
    "plt.show()"
   ]
  },
  {
   "cell_type": "code",
   "execution_count": null,
   "metadata": {},
   "outputs": [],
   "source": []
  }
 ],
 "metadata": {
  "kernelspec": {
   "display_name": "Python 3",
   "language": "python",
   "name": "python3"
  },
  "language_info": {
   "codemirror_mode": {
    "name": "ipython",
    "version": 3
   },
   "file_extension": ".py",
   "mimetype": "text/x-python",
   "name": "python",
   "nbconvert_exporter": "python",
   "pygments_lexer": "ipython3",
   "version": "3.7.4"
  }
 },
 "nbformat": 4,
 "nbformat_minor": 2
}
